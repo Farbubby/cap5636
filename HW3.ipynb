{
 "cells": [
  {
   "cell_type": "raw",
   "metadata": {},
   "source": [
    "# Homework 3: Wolf, goat, cabbage"
   ]
  },
  {
   "cell_type": "markdown",
   "metadata": {},
   "source": [
    "# Homework 3: Wolf, Goat, Cabbage"
   ]
  },
  {
   "cell_type": "markdown",
   "metadata": {},
   "source": [
    "\n",
    "![width:200](figures/OrmesbyPsalter.jpg)"
   ]
  },
  {
   "cell_type": "code",
   "execution_count": 1,
   "metadata": {},
   "outputs": [],
   "source": [
    "# DO NOT EDIT THIS CELL\n",
    "\n",
    "import copy\n",
    "\n",
    "# Define the class for state\n",
    "class State:\n",
    "    \"\"\"The fields are boolean values, they are true if the entity is in the left bank of the river and false if it is on the right\"\"\"\n",
    "\n",
    "    def __init__(self, goat = \"left\", wolf = \"left\", cabbage = \"left\", farmer = \"left\"):\n",
    "        self.goat = (goat == \"left\")\n",
    "        self.farmer = (farmer == \"left\")\n",
    "        self.cabbage = (cabbage == \"left\")\n",
    "        self.wolf = (wolf == \"left\")\n",
    "\n",
    "    def __eq__(self, other):\n",
    "        \"\"\"Define the equality operator\"\"\"\n",
    "        return self.farmer == other.farmer and self.wolf == other.wolf and self.goat == other.goat and self.cabbage == other.cabbage\n",
    "\n",
    "    def is_init_state(self):\n",
    "        \"\"\"Test whether this is the initial state: everybody in the left side\"\"\"\n",
    "        return self.farmer and self.wolf and self.goat and self.cabbage\n",
    "    \n",
    "    def is_goal_state(self):\n",
    "        \"\"\"Test whether this is the goal state: everybody on the right side\"\"\"\n",
    "        return (not self.farmer) and (not self.wolf) and (not self.goat) and (not self.cabbage)\n",
    "    \n",
    "    def is_danger_state(self):\n",
    "        \"\"\"Is this a dangerous state (wolf and goat or goat and cabbage together without farmer)\"\"\"\n",
    "        if self.wolf == self.goat and self.wolf != self.farmer:\n",
    "            return True\n",
    "        if self.goat == self.cabbage and self.goat != self.farmer:\n",
    "            return True\n",
    "        return False\n",
    "\n",
    "    def available_actions(self):\n",
    "        actions = []\n",
    "        if self.is_danger_state() or self.is_goal_state():\n",
    "            return actions\n",
    "        actions.append(\"farmer\")\n",
    "        if self.farmer == self.wolf:\n",
    "            actions.append(\"wolf\")\n",
    "        if self.farmer == self.goat:\n",
    "            actions.append(\"goat\")\n",
    "        if self.farmer == self.cabbage:\n",
    "            actions.append(\"cabbage\")\n",
    "        return actions\n",
    "    \n",
    "    def transition(self, action):\n",
    "        \"\"\"action can be: \"farmer\" (farmer crosses river alone), \"wolf\" (farmer carries the wolf accross), \"goat\", \"cabbage\"\n",
    "        Not all actions succeed: if the wolf was not on the same side of the river as the farmer, the \"wolf\" action is not possible. \n",
    "        The function returns a new state. \n",
    "        \"\"\"\n",
    "        if action not in self.available_actions():\n",
    "            raise Exception(\"This action is not available in this state!\")\n",
    "        state = copy.copy(self)\n",
    "        state.farmer = not state.farmer\n",
    "        if action == \"wolf\":\n",
    "            state.wolf = not self.wolf\n",
    "        if action == \"goat\":\n",
    "            state.goat = not self.goat\n",
    "        if action == \"cabbage\":\n",
    "            state.cabbage = not self.cabbage\n",
    "        return state\n",
    "    \n",
    "    def __str__(self):\n",
    "        str_left = f'{\"farmer \" if self.farmer else \"\"}{\"wolf \" if self.wolf else \"\"}{\"goat \" if self.goat else \"\"}{\"cabbage\" if self.cabbage else \"\"}{\"none\" if not (self.farmer or self.wolf or self.goat or self.cabbage) else \"\"}'            \n",
    "        str_right = f'{\"farmer \" if not self.farmer else \"\"}{\"wolf \" if not self.wolf else \"\"}{\"goat \" if not self.goat else \"\"}{\"cabbage\" if not self.cabbage else \"\"}{\"none\" if (self.farmer and self.wolf and self.goat and self.cabbage) else \"\"}' \n",
    "        return \"[\" + str_left + \" | \" + str_right + \"]\"\n",
    "\n",
    "    def __repr__(self):\n",
    "        str_initial_state = f'{\"initial state\" if self.is_init_state() else \"not initial state\"}'\n",
    "        str_danger_state = f'{\"danger state\" if self.is_danger_state() else \"not danger state\"}'\n",
    "        str_goal_state = f'{\"goal state\" if self.is_goal_state() else \"not goal state\"}'\n",
    "        str_actions = f'available actions = {self.available_actions()}'\n",
    "        return \"State:\\n\\t\" + str(self) + \"\\n\\t\" + str_initial_state + \"\\n\\t\" + str_danger_state + \"\\n\\t\" + str_goal_state + \"\\n\\t\" + str_actions + \"\\n\""
   ]
  },
  {
   "cell_type": "code",
   "execution_count": 4,
   "metadata": {},
   "outputs": [
    {
     "name": "stdout",
     "output_type": "stream",
     "text": [
      "[farmer wolf goat cabbage | none]\n",
      "State:\n",
      "\t[farmer wolf goat cabbage | none]\n",
      "\tinitial state\n",
      "\tnot danger state\n",
      "\tnot goal state\n",
      "\tavailable actions = ['farmer', 'wolf', 'goat', 'cabbage']\n",
      "\n",
      "[wolf cabbage | farmer goat ]\n",
      "State:\n",
      "\t[wolf cabbage | farmer goat ]\n",
      "\tnot initial state\n",
      "\tnot danger state\n",
      "\tnot goal state\n",
      "\tavailable actions = ['farmer', 'goat']\n",
      "\n",
      "['farmer', 'goat']\n",
      "[farmer wolf goat cabbage | none] does not equal [wolf cabbage | farmer goat ]\n",
      "[farmer wolf goat cabbage | none] equals [farmer wolf goat cabbage | none]\n",
      "\n",
      "\n",
      "Successors of state [farmer wolf goat cabbage | none]:\n",
      "\t[wolf goat cabbage | farmer ]\n",
      "\t[goat cabbage | farmer wolf ]\n",
      "\t[wolf cabbage | farmer goat ]\n",
      "\t[wolf goat  | farmer cabbage]\n"
     ]
    }
   ],
   "source": [
    "# DO NOT EDIT THIS CELL\n",
    "\n",
    "# Experiments with transitions\n",
    "state = State()\n",
    "print(state)\n",
    "print(repr(state))\n",
    "s2 = state.transition(\"goat\")\n",
    "print(s2)\n",
    "print(repr(s2))\n",
    "s3 = s2.transition(\"goat\")\n",
    "\n",
    "# Checking if two states are equal\n",
    "if state == s2:\n",
    "    print(f\"{state} equals {s2}\")\n",
    "else:\n",
    "    print(f\"{state} does not equal {s2}\")\n",
    "\n",
    "if state == s3:\n",
    "    print(f\"{state} equals {s3}\")\n",
    "else:\n",
    "    print(f\"{state} does not equal {s3}\")\n",
    "\n",
    "\n",
    "# Generating all the successors of a state\n",
    "print(f\"\\n\\nSuccessors of state {state}:\")\n",
    "for action in state.available_actions():\n",
    "    snext = state.transition(action)\n",
    "    print(f\"\\t{snext}\")"
   ]
  },
  {
   "cell_type": "markdown",
   "metadata": {},
   "source": []
  },
  {
   "cell_type": "markdown",
   "metadata": {},
   "source": [
    "# (Bonus) Problem 0: The problem\n",
    "The picture above shows a medieval representation of the wolf, goat and cabbage problem. Search the internet or ask an LLM about the history of this problem. Identify the farmer, wolf, goat/sheep, cabbage, boat and river in the picture. \n",
    "\n",
    "Follow the instruction in the following two cells. "
   ]
  },
  {
   "cell_type": "markdown",
   "metadata": {},
   "source": [
    "__Edit this markdown cell__\n",
    "\n",
    "List three plants or animals in the picture that have nothing to do with the problem and say where they are. Eg, the farmer is in the bottom middle of the picture. "
   ]
  },
  {
   "cell_type": "code",
   "execution_count": 60,
   "metadata": {},
   "outputs": [],
   "source": [
    "# EDIT THIS PYTHON CELL\n",
    "# Write some code experiments using the problem representation from above. The code needs to use every function in the \"State\" class."
   ]
  },
  {
   "cell_type": "markdown",
   "metadata": {},
   "source": [
    "# Problem 1: Solve by hand\n",
    "Create a series of valid transitions such that the last transition lands to the goal state.  Print every action and new state. Feel free to use an LLM to help. "
   ]
  },
  {
   "cell_type": "code",
   "execution_count": null,
   "metadata": {},
   "outputs": [],
   "source": [
    "# EDIT THIS PYTHON CELL\n",
    "s0 = State()\n",
    "print(f\"Initial state {s0}\")\n",
    "action = \"farmer\"\n",
    "snext = s0.transition(action)\n",
    "print(f\"Action '{action}' landed us in state {snext}\")\n",
    "if snext.is_goal_state():\n",
    "    print(\"We are done\")\n",
    "else:\n",
    "    print(\"We are NOT done\")"
   ]
  },
  {
   "cell_type": "markdown",
   "metadata": {},
   "source": [
    "__Edit this markdown cell__\n",
    "\n",
    "If you used an LLM to solve this problem, explain what queries did you use. If you solved it by hand, please write here \"I did not use an LLM\". "
   ]
  },
  {
   "cell_type": "markdown",
   "metadata": {},
   "source": [
    "# Problem 2: Depth first search\n",
    "\n",
    "Implement depth first tree search for this problem. Implement your own representation of the tree and fringe. However, you need to use the state representation from above. \n",
    "\n",
    "Feel free to use an LLM to write the code."
   ]
  },
  {
   "cell_type": "code",
   "execution_count": null,
   "metadata": {},
   "outputs": [],
   "source": [
    "# EDIT THIS PYTHON CELL\n",
    "# write here the python implementation"
   ]
  },
  {
   "cell_type": "markdown",
   "metadata": {},
   "source": [
    "__Discussion: edit this markdown cell__\n",
    "\n",
    "Discuss the success of the approach, challenges etc. \n",
    "\n",
    "If you used an LLM to solve this problem, explain what queries did you use. If you solved it by hand, please write here \"I did not use an LLM\". "
   ]
  },
  {
   "cell_type": "markdown",
   "metadata": {},
   "source": [
    "# Problem 3: Breadth first search\n",
    "\n",
    "Implement breadth first tree search for this problem. Continue using your own representation from the depth first search problem.\n",
    "\n",
    "Feel free to use an LLM to write the code."
   ]
  },
  {
   "cell_type": "code",
   "execution_count": null,
   "metadata": {},
   "outputs": [],
   "source": [
    "# EDIT THIS PYTHON CELL\n",
    "# write here the python implementation"
   ]
  },
  {
   "cell_type": "markdown",
   "metadata": {},
   "source": [
    "__Discussion: edit this markdown cell__\n",
    "\n",
    "Discuss the success of the approach, challenges etc. \n",
    "\n",
    "If you used an LLM to solve this problem, explain what queries did you use. If you solved it by hand, please write here \"I did not use an LLM\". "
   ]
  },
  {
   "cell_type": "markdown",
   "metadata": {},
   "source": [
    "# Problem 4: Implement graph search for depth first search and breadth first search. \n",
    "\n",
    "Modify the code from Problem 2 and 3 to implement graph search. You will need to implement a closed set, in addition to the fringe. Feel free to use an LLM to write the code."
   ]
  },
  {
   "cell_type": "code",
   "execution_count": 62,
   "metadata": {},
   "outputs": [],
   "source": [
    "# EDIT THIS PYTHON CELL\n",
    "# write here the python implementation"
   ]
  },
  {
   "cell_type": "markdown",
   "metadata": {},
   "source": [
    "__Discussion: edit this markdown cell__\n",
    "\n",
    "Discuss the success of the approach, challenges etc. \n",
    "\n",
    "If you used an LLM to solve this problem, explain what queries did you use. If you solved it by hand, please write here \"I did not use an LLM\". "
   ]
  },
  {
   "cell_type": "markdown",
   "metadata": {},
   "source": [
    "# Problem 5: Implement uniform cost tree search\n",
    "\n",
    "Modify the code from Problem 2 and 3 to implement uniform cost tree search. Assume that:\n",
    "\n",
    "* The farmer traversing the river by himself costs 1 \n",
    "* The farmer carrying an item across costs 2\n",
    "\n",
    "You will need to somehow add the current cost to the tree nodes. \n",
    "\n",
    "Feel free to use an LLM to write the code."
   ]
  },
  {
   "cell_type": "code",
   "execution_count": 63,
   "metadata": {},
   "outputs": [],
   "source": [
    "# EDIT THIS PYTHON CELL\n",
    "# write here the python implementation"
   ]
  },
  {
   "cell_type": "markdown",
   "metadata": {},
   "source": [
    "__Discussion: edit this markdown cell__\n",
    "\n",
    "Discuss the success of the approach, challenges etc. \n",
    "\n",
    "If you used an LLM to solve this problem, explain what queries did you use. If you solved it by hand, please write here \"I did not use an LLM\". "
   ]
  },
  {
   "cell_type": "markdown",
   "metadata": {},
   "source": [
    "# Problem 6: Propose two heuristic functions for the wolf, goat, cabbage problem\n",
    "\n",
    "Propose two heuristic functions for the wolf, goat, cabbage problem. Discuss their qualities with regards on how difficult is to compute them, and how close they are to the real solution. (For this problem, don't bother about whether the heuristics are admissible and/or consistent). \n",
    "\n",
    "Feel free to use an LLM. \n"
   ]
  },
  {
   "cell_type": "markdown",
   "metadata": {},
   "source": [
    "__Discussion: edit this markdown cell__\n",
    "\n",
    "Present the answer to the question in problem 6 here. \n",
    "\n",
    "If you used an LLM to solve this problem, explain what queries did you use. If you solved it by hand, please write here \"I did not use an LLM\"."
   ]
  },
  {
   "cell_type": "markdown",
   "metadata": {},
   "source": [
    "# Problem 7: Implement best first search\n",
    "\n",
    "Modify the code from Problem 2 and 3 to implement best first search. Implement the two heuristics proposed in Problem 6.\n",
    "\n",
    "Feel free to use an LLM. "
   ]
  },
  {
   "cell_type": "code",
   "execution_count": null,
   "metadata": {},
   "outputs": [],
   "source": [
    "# EDIT THIS PYTHON CELL\n",
    "# write here the python implementation"
   ]
  },
  {
   "cell_type": "markdown",
   "metadata": {},
   "source": [
    "__Discussion: edit this markdown cell__\n",
    "\n",
    "Discuss the success of the approach, challenges etc. \n",
    "\n",
    "If you used an LLM to solve this problem, explain what queries did you use. If you solved it by hand, please write here \"I did not use an LLM\". "
   ]
  },
  {
   "cell_type": "markdown",
   "metadata": {},
   "source": [
    "# Problem 8: Admissible heuristics\n",
    "\n",
    "Propose a heuristic for the wolf-goat-cabbage problem which is explicitly based on the relaxation of the problem. \n",
    "\n",
    "Feel free to use an LLM. "
   ]
  },
  {
   "cell_type": "markdown",
   "metadata": {},
   "source": [
    "__Discussion: edit this markdown cell__\n",
    "\n",
    "Present the heuristic here, and explain what kind of relaxation it is based on. If this heuristic is that same as one of the ones you proposed in problem 6, say so. \n",
    "\n",
    "If you used an LLM to solve this problem, explain what queries did you use. If you solved it by hand, please write here \"I did not use an LLM\". "
   ]
  },
  {
   "cell_type": "markdown",
   "metadata": {},
   "source": [
    "# Problem 9: A* tree search\n",
    "\n",
    "Modify the code you proposed for the problems above to implement the A* algorithm, with the heuristic you proposed for Problem 8. \n",
    "\n",
    "Feel free to use an LLM. "
   ]
  },
  {
   "cell_type": "code",
   "execution_count": null,
   "metadata": {},
   "outputs": [],
   "source": [
    "# EDIT THIS PYTHON CELL\n",
    "# write here the python implementation"
   ]
  },
  {
   "cell_type": "markdown",
   "metadata": {},
   "source": [
    "__Discussion: edit this markdown cell__\n",
    "\n",
    "Discuss your implementation. Did it find a solution? How performant the solution you think is?\n",
    "\n",
    "If you used an LLM to solve this problem, explain what queries did you use. If you solved it by hand, please write here \"I did not use an LLM\". "
   ]
  },
  {
   "cell_type": "markdown",
   "metadata": {},
   "source": [
    "# Problem 10: A* graph search\n",
    "\n",
    "Modify the code you proposed for Problem 9 to implement A* graph search. \n",
    "\n",
    "Feel free to use an LLM."
   ]
  },
  {
   "cell_type": "code",
   "execution_count": null,
   "metadata": {},
   "outputs": [],
   "source": [
    "# EDIT THIS PYTHON CELL\n",
    "# write here the python implementation"
   ]
  },
  {
   "cell_type": "markdown",
   "metadata": {},
   "source": [
    "__Discussion: edit this markdown cell__\n",
    "\n",
    "Discuss your implementation. Did it find a solution? How performant the solution you think is?\n",
    "\n",
    "If you used an LLM to solve this problem, explain what queries did you use. If you solved it by hand, please write here \"I did not use an LLM\"."
   ]
  }
 ],
 "metadata": {
  "kernelspec": {
   "display_name": "Python 3",
   "language": "python",
   "name": "python3"
  },
  "language_info": {
   "codemirror_mode": {
    "name": "ipython",
    "version": 3
   },
   "file_extension": ".py",
   "mimetype": "text/x-python",
   "name": "python",
   "nbconvert_exporter": "python",
   "pygments_lexer": "ipython3",
   "version": "3.11.4"
  }
 },
 "nbformat": 4,
 "nbformat_minor": 2
}
